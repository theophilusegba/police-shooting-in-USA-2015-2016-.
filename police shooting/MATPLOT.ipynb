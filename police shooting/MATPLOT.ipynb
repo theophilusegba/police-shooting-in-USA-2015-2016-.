{
 "cells": [
  {
   "cell_type": "code",
   "execution_count": 5,
   "id": "ea2e6653-04fe-49d0-8a28-d6a09d0a2582",
   "metadata": {},
   "outputs": [],
   "source": [
    "import pandas as pd"
   ]
  },
  {
   "cell_type": "code",
   "execution_count": 6,
   "id": "9d84c205-e80f-4509-b0b9-51a8338ba8a6",
   "metadata": {},
   "outputs": [],
   "source": [
    "pd1 = pd.read_csv('2024-07-23-washington-post-police-shootings-export.csv')"
   ]
  },
  {
   "cell_type": "code",
   "execution_count": 7,
   "id": "640d8e74-5fbb-4b29-b276-c4160c9fd806",
   "metadata": {},
   "outputs": [
    {
     "data": {
      "text/html": [
       "<div>\n",
       "<style scoped>\n",
       "    .dataframe tbody tr th:only-of-type {\n",
       "        vertical-align: middle;\n",
       "    }\n",
       "\n",
       "    .dataframe tbody tr th {\n",
       "        vertical-align: top;\n",
       "    }\n",
       "\n",
       "    .dataframe thead th {\n",
       "        text-align: right;\n",
       "    }\n",
       "</style>\n",
       "<table border=\"1\" class=\"dataframe\">\n",
       "  <thead>\n",
       "    <tr style=\"text-align: right;\">\n",
       "      <th></th>\n",
       "      <th>date</th>\n",
       "      <th>name</th>\n",
       "      <th>age</th>\n",
       "      <th>gender</th>\n",
       "      <th>armed</th>\n",
       "      <th>race</th>\n",
       "      <th>city</th>\n",
       "      <th>state</th>\n",
       "      <th>flee</th>\n",
       "      <th>body_camera</th>\n",
       "      <th>signs_of_mental_illness</th>\n",
       "      <th>police_departments_involved</th>\n",
       "    </tr>\n",
       "  </thead>\n",
       "  <tbody>\n",
       "    <tr>\n",
       "      <th>0</th>\n",
       "      <td>2015-01-02</td>\n",
       "      <td>Lewis Lee Lembke</td>\n",
       "      <td>47.0</td>\n",
       "      <td>male</td>\n",
       "      <td>gun</td>\n",
       "      <td>White</td>\n",
       "      <td>Aloha</td>\n",
       "      <td>OR</td>\n",
       "      <td>not</td>\n",
       "      <td>False</td>\n",
       "      <td>False</td>\n",
       "      <td>Washington County Sheriff's Office, OR</td>\n",
       "    </tr>\n",
       "    <tr>\n",
       "      <th>1</th>\n",
       "      <td>2015-01-02</td>\n",
       "      <td>Tim Elliot</td>\n",
       "      <td>53.0</td>\n",
       "      <td>male</td>\n",
       "      <td>gun</td>\n",
       "      <td>Asian</td>\n",
       "      <td>Shelton</td>\n",
       "      <td>WA</td>\n",
       "      <td>not</td>\n",
       "      <td>False</td>\n",
       "      <td>True</td>\n",
       "      <td>Mason County Sheriff's Office, WA</td>\n",
       "    </tr>\n",
       "    <tr>\n",
       "      <th>2</th>\n",
       "      <td>2015-01-03</td>\n",
       "      <td>John Paul Quintero</td>\n",
       "      <td>23.0</td>\n",
       "      <td>male</td>\n",
       "      <td>unarmed</td>\n",
       "      <td>Hispanic</td>\n",
       "      <td>Wichita</td>\n",
       "      <td>KS</td>\n",
       "      <td>not</td>\n",
       "      <td>False</td>\n",
       "      <td>False</td>\n",
       "      <td>Wichita Police Department, KS</td>\n",
       "    </tr>\n",
       "    <tr>\n",
       "      <th>3</th>\n",
       "      <td>2015-01-04</td>\n",
       "      <td>Kenneth Joe Brown</td>\n",
       "      <td>18.0</td>\n",
       "      <td>male</td>\n",
       "      <td>gun</td>\n",
       "      <td>White</td>\n",
       "      <td>Guthrie</td>\n",
       "      <td>OK</td>\n",
       "      <td>not</td>\n",
       "      <td>False</td>\n",
       "      <td>False</td>\n",
       "      <td>Oklahoma Highway Patrol, OK</td>\n",
       "    </tr>\n",
       "    <tr>\n",
       "      <th>4</th>\n",
       "      <td>2015-01-04</td>\n",
       "      <td>Michael Rodriguez</td>\n",
       "      <td>39.0</td>\n",
       "      <td>male</td>\n",
       "      <td>other</td>\n",
       "      <td>Hispanic</td>\n",
       "      <td>Evans</td>\n",
       "      <td>CO</td>\n",
       "      <td>not</td>\n",
       "      <td>False</td>\n",
       "      <td>False</td>\n",
       "      <td>Evans Police Department, CO</td>\n",
       "    </tr>\n",
       "    <tr>\n",
       "      <th>...</th>\n",
       "      <td>...</td>\n",
       "      <td>...</td>\n",
       "      <td>...</td>\n",
       "      <td>...</td>\n",
       "      <td>...</td>\n",
       "      <td>...</td>\n",
       "      <td>...</td>\n",
       "      <td>...</td>\n",
       "      <td>...</td>\n",
       "      <td>...</td>\n",
       "      <td>...</td>\n",
       "      <td>...</td>\n",
       "    </tr>\n",
       "    <tr>\n",
       "      <th>9888</th>\n",
       "      <td>2024-07-13</td>\n",
       "      <td>Daniel Scott McGoldrick</td>\n",
       "      <td>35.0</td>\n",
       "      <td>male</td>\n",
       "      <td>gun</td>\n",
       "      <td>Unknown</td>\n",
       "      <td>Easley</td>\n",
       "      <td>SC</td>\n",
       "      <td>not</td>\n",
       "      <td>False</td>\n",
       "      <td>False</td>\n",
       "      <td>Easley Police Department, SC</td>\n",
       "    </tr>\n",
       "    <tr>\n",
       "      <th>9889</th>\n",
       "      <td>2024-07-15</td>\n",
       "      <td>NaN</td>\n",
       "      <td>NaN</td>\n",
       "      <td>male</td>\n",
       "      <td>undetermined</td>\n",
       "      <td>Unknown</td>\n",
       "      <td>Graham</td>\n",
       "      <td>WA</td>\n",
       "      <td>other</td>\n",
       "      <td>False</td>\n",
       "      <td>False</td>\n",
       "      <td>Pierce County Sheriff's Department, WA</td>\n",
       "    </tr>\n",
       "    <tr>\n",
       "      <th>9890</th>\n",
       "      <td>2024-07-15</td>\n",
       "      <td>Steven Kissack</td>\n",
       "      <td>35.0</td>\n",
       "      <td>male</td>\n",
       "      <td>knife</td>\n",
       "      <td>White</td>\n",
       "      <td>Juneau</td>\n",
       "      <td>AK</td>\n",
       "      <td>foot</td>\n",
       "      <td>False</td>\n",
       "      <td>False</td>\n",
       "      <td>Alaska Wildlife Troopers, AK;Juneau Police Dep...</td>\n",
       "    </tr>\n",
       "    <tr>\n",
       "      <th>9891</th>\n",
       "      <td>2024-07-15</td>\n",
       "      <td>Charles Patrick Carroll</td>\n",
       "      <td>68.0</td>\n",
       "      <td>male</td>\n",
       "      <td>replica</td>\n",
       "      <td>White</td>\n",
       "      <td>Beaumont</td>\n",
       "      <td>TX</td>\n",
       "      <td>not</td>\n",
       "      <td>False</td>\n",
       "      <td>True</td>\n",
       "      <td>Beaumont Police Department, TX</td>\n",
       "    </tr>\n",
       "    <tr>\n",
       "      <th>9892</th>\n",
       "      <td>2024-07-15</td>\n",
       "      <td>Michael Guy</td>\n",
       "      <td>39.0</td>\n",
       "      <td>male</td>\n",
       "      <td>undetermined</td>\n",
       "      <td>Black</td>\n",
       "      <td>Marion</td>\n",
       "      <td>IN</td>\n",
       "      <td>NaN</td>\n",
       "      <td>True</td>\n",
       "      <td>False</td>\n",
       "      <td>Marion Police, IN</td>\n",
       "    </tr>\n",
       "  </tbody>\n",
       "</table>\n",
       "<p>9893 rows × 12 columns</p>\n",
       "</div>"
      ],
      "text/plain": [
       "            date                     name   age gender         armed  \\\n",
       "0     2015-01-02         Lewis Lee Lembke  47.0   male           gun   \n",
       "1     2015-01-02               Tim Elliot  53.0   male           gun   \n",
       "2     2015-01-03       John Paul Quintero  23.0   male       unarmed   \n",
       "3     2015-01-04        Kenneth Joe Brown  18.0   male           gun   \n",
       "4     2015-01-04        Michael Rodriguez  39.0   male         other   \n",
       "...          ...                      ...   ...    ...           ...   \n",
       "9888  2024-07-13  Daniel Scott McGoldrick  35.0   male           gun   \n",
       "9889  2024-07-15                      NaN   NaN   male  undetermined   \n",
       "9890  2024-07-15           Steven Kissack  35.0   male         knife   \n",
       "9891  2024-07-15  Charles Patrick Carroll  68.0   male       replica   \n",
       "9892  2024-07-15              Michael Guy  39.0   male  undetermined   \n",
       "\n",
       "          race      city state   flee  body_camera  signs_of_mental_illness  \\\n",
       "0        White     Aloha    OR    not        False                    False   \n",
       "1        Asian   Shelton    WA    not        False                     True   \n",
       "2     Hispanic   Wichita    KS    not        False                    False   \n",
       "3        White   Guthrie    OK    not        False                    False   \n",
       "4     Hispanic     Evans    CO    not        False                    False   \n",
       "...        ...       ...   ...    ...          ...                      ...   \n",
       "9888   Unknown    Easley    SC    not        False                    False   \n",
       "9889   Unknown    Graham    WA  other        False                    False   \n",
       "9890     White    Juneau    AK   foot        False                    False   \n",
       "9891     White  Beaumont    TX    not        False                     True   \n",
       "9892     Black    Marion    IN    NaN         True                    False   \n",
       "\n",
       "                            police_departments_involved  \n",
       "0                Washington County Sheriff's Office, OR  \n",
       "1                     Mason County Sheriff's Office, WA  \n",
       "2                         Wichita Police Department, KS  \n",
       "3                           Oklahoma Highway Patrol, OK  \n",
       "4                           Evans Police Department, CO  \n",
       "...                                                 ...  \n",
       "9888                       Easley Police Department, SC  \n",
       "9889             Pierce County Sheriff's Department, WA  \n",
       "9890  Alaska Wildlife Troopers, AK;Juneau Police Dep...  \n",
       "9891                     Beaumont Police Department, TX  \n",
       "9892                                  Marion Police, IN  \n",
       "\n",
       "[9893 rows x 12 columns]"
      ]
     },
     "execution_count": 7,
     "metadata": {},
     "output_type": "execute_result"
    }
   ],
   "source": [
    "pd1"
   ]
  },
  {
   "cell_type": "code",
   "execution_count": 16,
   "id": "7af36ccd-83ac-4fd5-af49-a18b1f854065",
   "metadata": {},
   "outputs": [],
   "source": [
    "# How many rows and columns are in the dataset?\n",
    "# 9893 rows × 12 columns\n",
    "# What are the column names, and what data types do they have?\n",
    "# date\tname\tage\tgender\tarmed\trace\tcity\tstate\tflee\tbody_camera\tsigns_of_mental_illness\tpolice_departments_involved\n",
    "# Missing Data:\n",
    "\n",
    "# Are there any missing values in the dataset? If so, which columns have the most missing data\n"
   ]
  },
  {
   "cell_type": "code",
   "execution_count": 8,
   "id": "e77b01bb-14f8-4942-80ff-6fb8f16b873b",
   "metadata": {},
   "outputs": [
    {
     "data": {
      "text/plain": [
       "(9893, 12)"
      ]
     },
     "execution_count": 8,
     "metadata": {},
     "output_type": "execute_result"
    }
   ],
   "source": [
    "#Display number of rows and column\n",
    "pd_shape = pd1.shape\n",
    "pd_shape"
   ]
  },
  {
   "cell_type": "code",
   "execution_count": 9,
   "id": "9e395bc2-39d9-42e7-b432-195a60317492",
   "metadata": {},
   "outputs": [
    {
     "data": {
      "text/plain": [
       "date                            object\n",
       "name                            object\n",
       "age                            float64\n",
       "gender                          object\n",
       "armed                           object\n",
       "race                            object\n",
       "city                            object\n",
       "state                           object\n",
       "flee                            object\n",
       "body_camera                       bool\n",
       "signs_of_mental_illness           bool\n",
       "police_departments_involved     object\n",
       "dtype: object"
      ]
     },
     "execution_count": 9,
     "metadata": {},
     "output_type": "execute_result"
    }
   ],
   "source": [
    "# Dispaly column names and data type\n",
    "pd_info = pd1.dtypes\n",
    "pd_info\n",
    "# missing values\n"
   ]
  },
  {
   "cell_type": "code",
   "execution_count": 45,
   "id": "247ef5b0-b147-4866-ba7e-a3d240407728",
   "metadata": {},
   "outputs": [
    {
     "data": {
      "text/plain": [
       "date                              0\n",
       "name                            337\n",
       "age                             384\n",
       "gender                           28\n",
       "armed                           211\n",
       "race                              0\n",
       "city                             72\n",
       "state                             0\n",
       "flee                           1345\n",
       "body_camera                       0\n",
       "signs_of_mental_illness           0\n",
       "police_departments_involved       1\n",
       "dtype: int64"
      ]
     },
     "execution_count": 45,
     "metadata": {},
     "output_type": "execute_result"
    }
   ],
   "source": [
    "mising_data= pd1.isnull().sum()\n",
    "mising_data"
   ]
  },
  {
   "cell_type": "code",
   "execution_count": 48,
   "id": "8bc6bf46-856e-4cdf-8e4a-5782fac5a78a",
   "metadata": {},
   "outputs": [
    {
     "data": {
      "text/plain": [
       "flee                           1345\n",
       "age                             384\n",
       "name                            337\n",
       "armed                           211\n",
       "city                             72\n",
       "gender                           28\n",
       "police_departments_involved       1\n",
       "dtype: int64"
      ]
     },
     "execution_count": 48,
     "metadata": {},
     "output_type": "execute_result"
    }
   ],
   "source": [
    "# Sort the columns by the most missing data\n",
    "mising_data_sorted = mising_data[mising_data>0].sort_values(ascending=False)\n",
    "mising_data_sorted"
   ]
  },
  {
   "cell_type": "code",
   "execution_count": 50,
   "id": "a9e5be18-77b5-4ada-a248-7fccc7dede93",
   "metadata": {},
   "outputs": [
    {
     "data": {
      "text/html": [
       "<div>\n",
       "<style scoped>\n",
       "    .dataframe tbody tr th:only-of-type {\n",
       "        vertical-align: middle;\n",
       "    }\n",
       "\n",
       "    .dataframe tbody tr th {\n",
       "        vertical-align: top;\n",
       "    }\n",
       "\n",
       "    .dataframe thead th {\n",
       "        text-align: right;\n",
       "    }\n",
       "</style>\n",
       "<table border=\"1\" class=\"dataframe\">\n",
       "  <thead>\n",
       "    <tr style=\"text-align: right;\">\n",
       "      <th></th>\n",
       "      <th>age</th>\n",
       "    </tr>\n",
       "  </thead>\n",
       "  <tbody>\n",
       "    <tr>\n",
       "      <th>count</th>\n",
       "      <td>9509.000000</td>\n",
       "    </tr>\n",
       "    <tr>\n",
       "      <th>mean</th>\n",
       "      <td>37.409507</td>\n",
       "    </tr>\n",
       "    <tr>\n",
       "      <th>std</th>\n",
       "      <td>12.932616</td>\n",
       "    </tr>\n",
       "    <tr>\n",
       "      <th>min</th>\n",
       "      <td>2.000000</td>\n",
       "    </tr>\n",
       "    <tr>\n",
       "      <th>25%</th>\n",
       "      <td>28.000000</td>\n",
       "    </tr>\n",
       "    <tr>\n",
       "      <th>50%</th>\n",
       "      <td>35.000000</td>\n",
       "    </tr>\n",
       "    <tr>\n",
       "      <th>75%</th>\n",
       "      <td>45.000000</td>\n",
       "    </tr>\n",
       "    <tr>\n",
       "      <th>max</th>\n",
       "      <td>92.000000</td>\n",
       "    </tr>\n",
       "  </tbody>\n",
       "</table>\n",
       "</div>"
      ],
      "text/plain": [
       "               age\n",
       "count  9509.000000\n",
       "mean     37.409507\n",
       "std      12.932616\n",
       "min       2.000000\n",
       "25%      28.000000\n",
       "50%      35.000000\n",
       "75%      45.000000\n",
       "max      92.000000"
      ]
     },
     "execution_count": 50,
     "metadata": {},
     "output_type": "execute_result"
    }
   ],
   "source": [
    "# What is the mean, median, and standard deviation of any numeric columns (like ages or years)?\n",
    "numeric_summary = pd1.describe()\n",
    "numeric_summary"
   ]
  },
  {
   "cell_type": "code",
   "execution_count": 57,
   "id": "9df83467-9b11-4c1b-82fc-8a9460797cff",
   "metadata": {},
   "outputs": [
    {
     "data": {
      "text/plain": [
       "<BarContainer object of 12 artists>"
      ]
     },
     "execution_count": 57,
     "metadata": {},
     "output_type": "execute_result"
    },
    {
     "data": {
      "image/png": "[encoded data removed]",
      "text/plain": [
       "<Figure size 2200x1200 with 1 Axes>"
      ]
     },
     "metadata": {},
     "output_type": "display_data"
    }
   ],
   "source": [
    "# Whaat is the most common race of the people involved in the police shooting?\n",
    "# mostcommon race\n",
    "most_common_race=pd1['race'].value_counts().idxmax()\n",
    "race_counts=pd1['race'].value_counts()\n",
    "most_common_race,race_counts\n",
    "\n",
    "# Create a bar chart for race count\n",
    "plt.figure(figsize=(22,12))\n",
    "plt.bar(race_counts.index,race_counts.values)"
   ]
  },
  {
   "cell_type": "code",
   "execution_count": 16,
   "id": "d0794dd9-aea8-438e-bd48-ea78710d5325",
   "metadata": {},
   "outputs": [
    {
     "ename": "NameError",
     "evalue": "name 'plt' is not defined",
     "output_type": "error",
     "traceback": [
      "\u001b[1;31m---------------------------------------------------------------------------\u001b[0m",
      "\u001b[1;31mNameError\u001b[0m                                 Traceback (most recent call last)",
      "Cell \u001b[1;32mIn[16], line 8\u001b[0m\n\u001b[0;32m      6\u001b[0m race_gender_breakdown\n\u001b[0;32m      7\u001b[0m \u001b[38;5;66;03m# plot chart\u001b[39;00m\n\u001b[1;32m----> 8\u001b[0m plt\u001b[38;5;241m.\u001b[39mfigure(figsize\u001b[38;5;241m=\u001b[39m(\u001b[38;5;241m22\u001b[39m,\u001b[38;5;241m12\u001b[39m))\n\u001b[0;32m      9\u001b[0m plt\u001b[38;5;241m.\u001b[39mbar(race_gender_breakdown\u001b[38;5;241m.\u001b[39mindex,race_counts\u001b[38;5;241m.\u001b[39mvalues)\n",
      "\u001b[1;31mNameError\u001b[0m: name 'plt' is not defined"
     ]
    }
   ],
   "source": [
    "# count for gender\n",
    "pd1['gender'].value_counts()\n",
    "# Race and gender analysis\n",
    "# what is the braekdown of incidents by race and gender\n",
    "race_gender_breakdown = pd1.groupby(['race', 'gender']).size()\n",
    "race_gender_breakdown\n",
    "# plot chart\n"
   ]
  },
  {
   "cell_type": "code",
   "execution_count": 17,
   "id": "7458c028-23d7-4e1a-8b0a-d440e3b07173",
   "metadata": {},
   "outputs": [
    {
     "data": {
      "text/plain": [
       "state\n",
       "CA    1357\n",
       "TX     944\n",
       "FL     635\n",
       "AZ     440\n",
       "GA     369\n",
       "CO     355\n",
       "NC     296\n",
       "OH     284\n",
       "TN     276\n",
       "WA     267\n",
       "OK     256\n",
       "MO     248\n",
       "PA     215\n",
       "NM     207\n",
       "IL     201\n",
       "IN     198\n",
       "LA     191\n",
       "AL     189\n",
       "NY     187\n",
       "VA     180\n",
       "MI     178\n",
       "KY     170\n",
       "NV     163\n",
       "SC     163\n",
       "WI     158\n",
       "OR     158\n",
       "AR     136\n",
       "MS     132\n",
       "UT     125\n",
       "MD     124\n",
       "MN     105\n",
       "NJ     104\n",
       "WV      96\n",
       "KS      95\n",
       "ID      85\n",
       "AK      66\n",
       "MT      63\n",
       "MA      60\n",
       "IA      59\n",
       "NE      47\n",
       "ME      46\n",
       "HI      45\n",
       "WY      33\n",
       "SD      32\n",
       "CT      31\n",
       "NH      31\n",
       "DC      29\n",
       "DE      21\n",
       "ND      20\n",
       "VT      15\n",
       "RI       8\n",
       "Name: count, dtype: int64"
      ]
     },
     "execution_count": 17,
     "metadata": {},
     "output_type": "execute_result"
    }
   ],
   "source": [
    "# Location based analysis\n",
    "# what state has the highest number of shooting\n",
    "state_counts = pd1['state'].value_counts()\n",
    "state_counts"
   ]
  },
  {
   "cell_type": "code",
   "execution_count": 41,
   "id": "13bf8fcd-3089-4440-b3ad-8a3ca279238b",
   "metadata": {},
   "outputs": [
    {
     "data": {
      "text/plain": [
       "armed\n",
       "gun                          0.593679\n",
       "knife                        0.173828\n",
       "unarmed                      0.056910\n",
       "undetermined                 0.043483\n",
       "vehicle                      0.036253\n",
       "replica                      0.032431\n",
       "blunt_object                 0.024685\n",
       "unknown                      0.015286\n",
       "other                        0.010122\n",
       "gun,knife                    0.004131\n",
       "gun,vehicle                  0.003925\n",
       "vehicle,gun                  0.002066\n",
       "knife,knife                  0.000516\n",
       "knife,blunt_object           0.000413\n",
       "other,gun                    0.000413\n",
       "blunt_object,blunt_object    0.000310\n",
       "blunt_object,knife           0.000310\n",
       "knife,vehicle                0.000310\n",
       "vehicle,knife                0.000207\n",
       "replica,vehicle              0.000103\n",
       "vehicle,knife,other          0.000103\n",
       "replica,knife                0.000103\n",
       "other,blunt_object,knife     0.000103\n",
       "other,knife                  0.000103\n",
       "gun,other                    0.000103\n",
       "blunt_object,other           0.000103\n",
       "Name: proportion, dtype: float64"
      ]
     },
     "execution_count": 41,
     "metadata": {},
     "output_type": "execute_result"
    }
   ],
   "source": [
    "# Time based Analysis\n",
    "# Ensure the 'date' column is in datetime format\n",
    "pd1['date'] = pd.to_datetime(pd1['date'], errors='coerce')\n",
    "pd1['date']\n",
    "# which month do most police shooting occur\n",
    "incidence_per_month = pd1['date'].dt.month.value_counts()\n",
    "incidence_per_month\n",
    "#What is the most common race of the people involved in the police shootings?\n",
    "most_common_race = pd1['race'].value_counts().idxmax()\n",
    "race_counts = pd1['race'].value_counts()\n",
    "most_common_race, race_counts\n",
    "# How many incidents occurred each year?\n",
    "incidents_per_year = pd1['date'].dt.year.value_counts()\n",
    "incidents_per_year\n",
    "# Assuming there's a 'weapon' or similar column\n",
    "weapon_involvement = pd1['armed'].value_counts(normalize=True)\n",
    "weapon_involvement\n",
    "# normalize=True: This option returns the relative frequencies (or proportions) instead of the absolute counts. \n",
    "# Instead of showing how many times each value appears, it shows what percentage of the total rows that value represents."
   ]
  }
 ],
 "metadata": {
  "kernelspec": {
   "display_name": "Python 3 (ipykernel)",
   "language": "python",
   "name": "python3"
  },
  "language_info": {
   "codemirror_mode": {
    "name": "ipython",
    "version": 3
   },
   "file_extension": ".py",
   "mimetype": "text/x-python",
   "name": "python",
   "nbconvert_exporter": "python",
   "pygments_lexer": "ipython3",
   "version": "3.11.7"
  }
 },
 "nbformat": 4,
 "nbformat_minor": 5
}
